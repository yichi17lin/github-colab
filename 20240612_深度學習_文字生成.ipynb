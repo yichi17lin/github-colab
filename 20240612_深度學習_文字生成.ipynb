{
  "nbformat": 4,
  "nbformat_minor": 0,
  "metadata": {
    "colab": {
      "provenance": [],
      "mount_file_id": "1SdXM8y2vtQiSVhlZjoirPxGD8KRUCgoq",
      "authorship_tag": "ABX9TyP5qt2Jbi0ilM1PaKRPmEyI",
      "include_colab_link": true
    },
    "kernelspec": {
      "name": "python3",
      "display_name": "Python 3"
    },
    "language_info": {
      "name": "python"
    }
  },
  "cells": [
    {
      "cell_type": "markdown",
      "metadata": {
        "id": "view-in-github",
        "colab_type": "text"
      },
      "source": [
        "<a href=\"https://colab.research.google.com/github/yichi17lin/github-colab/blob/%E6%96%87%E5%AD%97%E7%94%9F%E6%88%90/20240612_%E6%B7%B1%E5%BA%A6%E5%AD%B8%E7%BF%92_%E6%96%87%E5%AD%97%E7%94%9F%E6%88%90.ipynb\" target=\"_parent\"><img src=\"https://colab.research.google.com/assets/colab-badge.svg\" alt=\"Open In Colab\"/></a>"
      ]
    },
    {
      "cell_type": "markdown",
      "source": [
        "*   參考yenlung Deep-Learning-Basics"
      ],
      "metadata": {
        "id": "PEcjHHtd6Fax"
      }
    },
    {
      "cell_type": "code",
      "execution_count": null,
      "metadata": {
        "colab": {
          "base_uri": "https://localhost:8080/"
        },
        "id": "GwIYxPW8gtXz",
        "outputId": "9a3af34a-0ac6-43b7-e077-14b7739e2324"
      },
      "outputs": [
        {
          "output_type": "stream",
          "name": "stdout",
          "text": [
            "Requirement already satisfied: transformers in /usr/local/lib/python3.10/dist-packages (4.41.2)\n",
            "Requirement already satisfied: filelock in /usr/local/lib/python3.10/dist-packages (from transformers) (3.14.0)\n",
            "Requirement already satisfied: huggingface-hub<1.0,>=0.23.0 in /usr/local/lib/python3.10/dist-packages (from transformers) (0.23.2)\n",
            "Requirement already satisfied: numpy>=1.17 in /usr/local/lib/python3.10/dist-packages (from transformers) (1.25.2)\n",
            "Requirement already satisfied: packaging>=20.0 in /usr/local/lib/python3.10/dist-packages (from transformers) (24.0)\n",
            "Requirement already satisfied: pyyaml>=5.1 in /usr/local/lib/python3.10/dist-packages (from transformers) (6.0.1)\n",
            "Requirement already satisfied: regex!=2019.12.17 in /usr/local/lib/python3.10/dist-packages (from transformers) (2024.5.15)\n",
            "Requirement already satisfied: requests in /usr/local/lib/python3.10/dist-packages (from transformers) (2.31.0)\n",
            "Requirement already satisfied: tokenizers<0.20,>=0.19 in /usr/local/lib/python3.10/dist-packages (from transformers) (0.19.1)\n",
            "Requirement already satisfied: safetensors>=0.4.1 in /usr/local/lib/python3.10/dist-packages (from transformers) (0.4.3)\n",
            "Requirement already satisfied: tqdm>=4.27 in /usr/local/lib/python3.10/dist-packages (from transformers) (4.66.4)\n",
            "Requirement already satisfied: fsspec>=2023.5.0 in /usr/local/lib/python3.10/dist-packages (from huggingface-hub<1.0,>=0.23.0->transformers) (2023.6.0)\n",
            "Requirement already satisfied: typing-extensions>=3.7.4.3 in /usr/local/lib/python3.10/dist-packages (from huggingface-hub<1.0,>=0.23.0->transformers) (4.12.1)\n",
            "Requirement already satisfied: charset-normalizer<4,>=2 in /usr/local/lib/python3.10/dist-packages (from requests->transformers) (3.3.2)\n",
            "Requirement already satisfied: idna<4,>=2.5 in /usr/local/lib/python3.10/dist-packages (from requests->transformers) (3.7)\n",
            "Requirement already satisfied: urllib3<3,>=1.21.1 in /usr/local/lib/python3.10/dist-packages (from requests->transformers) (2.0.7)\n",
            "Requirement already satisfied: certifi>=2017.4.17 in /usr/local/lib/python3.10/dist-packages (from requests->transformers) (2024.6.2)\n",
            "Requirement already satisfied: opencc-python-reimplemented in /usr/local/lib/python3.10/dist-packages (0.1.7)\n"
          ]
        }
      ],
      "source": [
        "!pip install transformers #安裝transformers及準備中文轉換\n",
        "!pip install opencc-python-reimplemented"
      ]
    },
    {
      "cell_type": "code",
      "source": [
        "#從 opencc-python-reimplemented 庫導入 OpenCC\n",
        "from opencc import OpenCC\n",
        "\n",
        "#使用't2s'轉換規則創建OpenCC\n",
        "s2t = OpenCC('s2t').convert    # s2t：簡體轉繁體\n",
        "t2s = OpenCC('t2s').convert    # t2s：繁體轉簡體\n",
        "s2tw = OpenCC('s2tw').convert   # s2tw：簡體到臺灣繁體\n",
        "tw2s = OpenCC('tw2s').convert   # tw2s：臺灣繁體到簡體\n",
        "s2hk = OpenCC('s2hk').convert   # s2hk：簡體到香港繁體\n",
        "hk2s = OpenCC('hk2s').convert   # hk2s：香港繁體到簡體\n",
        "s2twp = OpenCC('s2twp').convert  # s2twp：簡體到臺灣繁體並轉換常用詞彙\n",
        "tw2sp = OpenCC('tw2sp').convert  # tw2sp：臺灣繁體到簡體並轉換常用詞彙"
      ],
      "metadata": {
        "id": "JnSU-UrJnZkA"
      },
      "execution_count": null,
      "outputs": []
    },
    {
      "cell_type": "markdown",
      "source": [
        "嘗試；測試"
      ],
      "metadata": {
        "id": "vPnPr6wAn-xu"
      }
    },
    {
      "cell_type": "code",
      "source": [
        "t2s('檢查看看有沒有問題') #測試以繁體轉簡體是否可行"
      ],
      "metadata": {
        "colab": {
          "base_uri": "https://localhost:8080/",
          "height": 35
        },
        "id": "d8wx8juNnoxB",
        "outputId": "0215832d-8ea1-4be2-8660-3bcf9d8f474c"
      },
      "execution_count": null,
      "outputs": [
        {
          "output_type": "execute_result",
          "data": {
            "text/plain": [
              "'检查看看有没有问题'"
            ],
            "application/vnd.google.colaboratory.intrinsic+json": {
              "type": "string"
            }
          },
          "metadata": {},
          "execution_count": 45
        }
      ]
    },
    {
      "cell_type": "code",
      "source": [
        "s2t('检查看看有没有问题') #測試以簡體轉繁體是否可行"
      ],
      "metadata": {
        "colab": {
          "base_uri": "https://localhost:8080/",
          "height": 35
        },
        "id": "ezzwFXz3zDV7",
        "outputId": "3bd0bf7e-e773-42fb-aaab-a704fab6d81f"
      },
      "execution_count": null,
      "outputs": [
        {
          "output_type": "execute_result",
          "data": {
            "text/plain": [
              "'檢查看看有沒有問題'"
            ],
            "application/vnd.google.colaboratory.intrinsic+json": {
              "type": "string"
            }
          },
          "metadata": {},
          "execution_count": 46
        }
      ]
    },
    {
      "cell_type": "code",
      "source": [
        "s2hk('是现代中文的一种标准化写法') #測試以簡體到香港繁體是否可行"
      ],
      "metadata": {
        "colab": {
          "base_uri": "https://localhost:8080/",
          "height": 35
        },
        "id": "d7bU1Gw1Aj0n",
        "outputId": "50dc80b2-33a7-4b54-e3e2-878da0ef4afd"
      },
      "execution_count": null,
      "outputs": [
        {
          "output_type": "execute_result",
          "data": {
            "text/plain": [
              "'是現代中文的一種標準化寫法'"
            ],
            "application/vnd.google.colaboratory.intrinsic+json": {
              "type": "string"
            }
          },
          "metadata": {},
          "execution_count": 47
        }
      ]
    },
    {
      "cell_type": "code",
      "source": [
        "tw2sp('是現代中文的一種標準化寫法') #測試以臺灣繁體到簡體並轉換常用詞彙是否可行"
      ],
      "metadata": {
        "colab": {
          "base_uri": "https://localhost:8080/",
          "height": 35
        },
        "id": "8-2NcnqFCRnx",
        "outputId": "de23c6fd-73f6-4b2b-ad49-d5444ea3c728"
      },
      "execution_count": null,
      "outputs": [
        {
          "output_type": "execute_result",
          "data": {
            "text/plain": [
              "'是现代中文的一种标准化写法'"
            ],
            "application/vnd.google.colaboratory.intrinsic+json": {
              "type": "string"
            }
          },
          "metadata": {},
          "execution_count": 48
        }
      ]
    },
    {
      "cell_type": "markdown",
      "source": [
        "Zero-Shot 情意分析"
      ],
      "metadata": {
        "id": "m4q-DpPVAU5N"
      }
    },
    {
      "cell_type": "code",
      "source": [
        "#從opencc-python-reimplemented庫導入OpenCC類\n",
        "from opencc import OpenCC #OpenCC是用於進行中文簡繁轉換的主要類。\n",
        "\n",
        "#使用't2s'轉換規則建立OpenCC類\n",
        "s2t = OpenCC('s2t').convert\n",
        "t2s = OpenCC('t2s').convert\n",
        "\n",
        "# 從 Transformers 庫匯入管道函數\n",
        "from transformers import pipeline #transformers是Hugging Face提供的庫，用於自然語言處理（NLP）任務\n",
        "\n",
        "classifier = pipeline(\"sentiment-analysis\") #創建情感分析管道"
      ],
      "metadata": {
        "colab": {
          "base_uri": "https://localhost:8080/"
        },
        "id": "2TZHeL_Cn9cv",
        "outputId": "458bdb3c-413e-4dcd-e05f-6f8d261958fb"
      },
      "execution_count": null,
      "outputs": [
        {
          "output_type": "stream",
          "name": "stderr",
          "text": [
            "No model was supplied, defaulted to distilbert/distilbert-base-uncased-finetuned-sst-2-english and revision af0f99b (https://huggingface.co/distilbert/distilbert-base-uncased-finetuned-sst-2-english).\n",
            "Using a pipeline without specifying a model name and revision in production is not recommended.\n"
          ]
        }
      ]
    },
    {
      "cell_type": "code",
      "source": [
        "classifier(\"This device was actually even better than number two, but still had some huge problems with Asus' quality assurance.\")\n",
        "#classifier(“這款設備實際上比第二名更好，但華碩的品質保證仍然存在一些巨大的問題。”)"
      ],
      "metadata": {
        "colab": {
          "base_uri": "https://localhost:8080/"
        },
        "id": "yJSNBVCTv8fa",
        "outputId": "d7d62b00-8368-4a10-f173-ce192662235d"
      },
      "execution_count": null,
      "outputs": [
        {
          "output_type": "execute_result",
          "data": {
            "text/plain": [
              "[{'label': 'NEGATIVE', 'score': 0.9980971217155457}]"
            ]
          },
          "metadata": {},
          "execution_count": 50
        }
      ]
    },
    {
      "cell_type": "code",
      "source": [
        "classifier = pipeline(\"sentiment-analysis\", model=\"uer/roberta-base-finetuned-jd-binary-chinese\")\n",
        "#分類器 = pipeline(\"情緒分析\", model=\"uer/roberta-base-finetuned-jd-binary-chinese\")"
      ],
      "metadata": {
        "id": "smfE953iwDKM"
      },
      "execution_count": null,
      "outputs": []
    },
    {
      "cell_type": "code",
      "source": [
        "text = t2s(\"這是近來我最喜歡的一本書。\")\n",
        "classifier(text)"
      ],
      "metadata": {
        "colab": {
          "base_uri": "https://localhost:8080/"
        },
        "id": "z5RJilcAwFG0",
        "outputId": "cadaf4a3-4ebc-48f9-98fd-6d5ea009362b"
      },
      "execution_count": null,
      "outputs": [
        {
          "output_type": "execute_result",
          "data": {
            "text/plain": [
              "[{'label': 'positive (stars 4 and 5)', 'score': 0.9790050983428955}]"
            ]
          },
          "metadata": {},
          "execution_count": 52
        }
      ]
    },
    {
      "cell_type": "code",
      "source": [
        "text = t2s(\"老闆千萬要提醒負責結帳的店員，摸了錢要不就好好洗手，要不就別碰食物包材\")\n",
        "classifier(text)"
      ],
      "metadata": {
        "colab": {
          "base_uri": "https://localhost:8080/"
        },
        "id": "7AXRpY32wGW0",
        "outputId": "4f8410e3-92e6-4666-aa80-548739f225c1"
      },
      "execution_count": null,
      "outputs": [
        {
          "output_type": "execute_result",
          "data": {
            "text/plain": [
              "[{'label': 'negative (stars 1, 2 and 3)', 'score': 0.9037976861000061}]"
            ]
          },
          "metadata": {},
          "execution_count": 53
        }
      ]
    },
    {
      "cell_type": "markdown",
      "source": [
        "一行文的文字生成器"
      ],
      "metadata": {
        "id": "JeW1c0S8AIsM"
      }
    },
    {
      "cell_type": "code",
      "source": [
        "generator = pipeline(\"text-generation\") #生成器=管道（“文字生成”）"
      ],
      "metadata": {
        "colab": {
          "base_uri": "https://localhost:8080/"
        },
        "id": "bDKa1EW9wPV3",
        "outputId": "b02f6d6d-c1df-4888-9e07-2368c9a06c08"
      },
      "execution_count": null,
      "outputs": [
        {
          "output_type": "stream",
          "name": "stderr",
          "text": [
            "No model was supplied, defaulted to openai-community/gpt2 and revision 6c0e608 (https://huggingface.co/openai-community/gpt2).\n",
            "Using a pipeline without specifying a model name and revision in production is not recommended.\n"
          ]
        }
      ]
    },
    {
      "cell_type": "code",
      "source": [
        "generator(\"My name is Lin Yi-Chi. I am a master of information management at the National Union University. I will next year\",\n",
        "          max_length=100,\n",
        "          num_return_sequences=2,\n",
        "          )"
      ],
      "metadata": {
        "colab": {
          "base_uri": "https://localhost:8080/"
        },
        "id": "z4PgZ9jcwRkb",
        "outputId": "816d7b97-6dc2-4910-c057-7d8d1fa48a9f"
      },
      "execution_count": null,
      "outputs": [
        {
          "output_type": "stream",
          "name": "stderr",
          "text": [
            "Truncation was not explicitly activated but `max_length` is provided a specific value, please use `truncation=True` to explicitly truncate examples to max length. Defaulting to 'longest_first' truncation strategy. If you encode pairs of sequences (GLUE-style) with the tokenizer you can select this strategy more precisely by providing a specific strategy to `truncation`.\n",
            "Setting `pad_token_id` to `eos_token_id`:50256 for open-end generation.\n"
          ]
        },
        {
          "output_type": "execute_result",
          "data": {
            "text/plain": [
              "[{'generated_text': 'My name is Lin Yi-Chi. I am a master of information management at the National Union University. I will next year teach you about the fundamentals of our system. I will teach you all sorts of secrets of data analysis, your basic knowledge, your ability to analyze data on the basis of a list and how-to exercises, and most important there is just how to analyze data on the basis of a list!\\n\\nAs I have stated here that I am a master of data analysis'},\n",
              " {'generated_text': 'My name is Lin Yi-Chi. I am a master of information management at the National Union University. I will next year join a staff at the National State University. I hope to see you at your very best and have a great career,\" he began in a letter to his daughter, who was also a student.'}]"
            ]
          },
          "metadata": {},
          "execution_count": 55
        }
      ]
    },
    {
      "cell_type": "code",
      "source": [
        "generator = pipeline(\"text-generation\", model=\"mymusise/gpt2-medium-chinese\")\n",
        "# 生成器=管道（“文字生成”，模型=“mymusise/gpt2-medium-chinese”）"
      ],
      "metadata": {
        "id": "2dL1F5oWxAPa"
      },
      "execution_count": null,
      "outputs": []
    },
    {
      "cell_type": "code",
      "source": [
        "text = t2s(\"我是聯合大學資訊管理學系的學生，我計畫明年\")"
      ],
      "metadata": {
        "id": "BkC9mjmwxDjm"
      },
      "execution_count": null,
      "outputs": []
    },
    {
      "cell_type": "code",
      "source": [
        "egg = generator(text, max_length=100)"
      ],
      "metadata": {
        "colab": {
          "base_uri": "https://localhost:8080/"
        },
        "id": "eZq08H5RxF7E",
        "outputId": "151b0efb-ee73-42fb-def6-8f182f86394c"
      },
      "execution_count": null,
      "outputs": [
        {
          "output_type": "stream",
          "name": "stderr",
          "text": [
            "Truncation was not explicitly activated but `max_length` is provided a specific value, please use `truncation=True` to explicitly truncate examples to max length. Defaulting to 'longest_first' truncation strategy. If you encode pairs of sequences (GLUE-style) with the tokenizer you can select this strategy more precisely by providing a specific strategy to `truncation`.\n"
          ]
        }
      ]
    },
    {
      "cell_type": "code",
      "source": [
        "result = s2t(''.join(egg[0]['generated_text'].split()))"
      ],
      "metadata": {
        "id": "BJRIeH0txJq1"
      },
      "execution_count": null,
      "outputs": []
    },
    {
      "cell_type": "code",
      "source": [
        "result"
      ],
      "metadata": {
        "colab": {
          "base_uri": "https://localhost:8080/",
          "height": 35
        },
        "id": "0DM4OCJSxJ_2",
        "outputId": "2811f186-ba88-4c1d-ce30-27a419e4e9c8"
      },
      "execution_count": null,
      "outputs": [
        {
          "output_type": "execute_result",
          "data": {
            "text/plain": [
              "'我是聯合大學資訊管理學系的學生，我計劃明年再考上市政府。爲此我在家鄉成立研究生實驗室、高級工商管理專業教育機構和電子信息技術諮詢中心擔任幹事。曾經參加2008年亞洲青年運動會。此外，在英國皇冠奧馬克公開'"
            ],
            "application/vnd.google.colaboratory.intrinsic+json": {
              "type": "string"
            }
          },
          "metadata": {},
          "execution_count": 60
        }
      ]
    },
    {
      "cell_type": "code",
      "source": [
        "text = t2s(\"林貳琪目前在聯大資管攻讀碩士學位，他擅長攝影、咖啡、寫程式。他的男朋友是\")"
      ],
      "metadata": {
        "id": "vbsw-yZGxMd7"
      },
      "execution_count": null,
      "outputs": []
    },
    {
      "cell_type": "code",
      "source": [
        "egg = generator(text, max_length=100)\n",
        "result = s2t(''.join(egg[0]['generated_text'].split()))"
      ],
      "metadata": {
        "id": "_JJ1twHtxPBJ"
      },
      "execution_count": null,
      "outputs": []
    },
    {
      "cell_type": "code",
      "source": [
        "result"
      ],
      "metadata": {
        "colab": {
          "base_uri": "https://localhost:8080/",
          "height": 35
        },
        "id": "m9-Eyg-lxP8s",
        "outputId": "170af015-accd-487e-c876-ab6dc7b57e06"
      },
      "execution_count": null,
      "outputs": [
        {
          "output_type": "execute_result",
          "data": {
            "text/plain": [
              "'林貳琪目前在聯大資管攻讀碩士學位，他擅長攝影、咖啡、寫程式。他的男朋友是同一個業餘無線電視製作人kimmichi-john，原爲ascii第10女主角。2007年，他成立了新公司ed娛樂旗下藝能服務基金，並於2012－'"
            ],
            "application/vnd.google.colaboratory.intrinsic+json": {
              "type": "string"
            }
          },
          "metadata": {},
          "execution_count": 63
        }
      ]
    },
    {
      "cell_type": "markdown",
      "source": [
        "原版的 BERT 來做中文填字"
      ],
      "metadata": {
        "id": "FxRkG4BxABS6"
      }
    },
    {
      "cell_type": "code",
      "source": [
        "fill_mask = pipeline('fill-mask', model='bert-base-chinese')"
      ],
      "metadata": {
        "colab": {
          "base_uri": "https://localhost:8080/"
        },
        "id": "pG1EofurxRq1",
        "outputId": "a0ee39a3-a1ec-4722-e4a1-e237236568b0"
      },
      "execution_count": null,
      "outputs": [
        {
          "output_type": "stream",
          "name": "stderr",
          "text": [
            "Some weights of the model checkpoint at bert-base-chinese were not used when initializing BertForMaskedLM: ['bert.pooler.dense.bias', 'bert.pooler.dense.weight', 'cls.seq_relationship.bias', 'cls.seq_relationship.weight']\n",
            "- This IS expected if you are initializing BertForMaskedLM from the checkpoint of a model trained on another task or with another architecture (e.g. initializing a BertForSequenceClassification model from a BertForPreTraining model).\n",
            "- This IS NOT expected if you are initializing BertForMaskedLM from the checkpoint of a model that you expect to be exactly identical (initializing a BertForSequenceClassification model from a BertForSequenceClassification model).\n"
          ]
        }
      ]
    },
    {
      "cell_type": "code",
      "source": [
        "fill_mask('樹上一隻[MASK]。')"
      ],
      "metadata": {
        "colab": {
          "base_uri": "https://localhost:8080/"
        },
        "id": "svCMOw00xSgq",
        "outputId": "a7f95cb3-34f8-4af8-8864-71428c4b591a"
      },
      "execution_count": null,
      "outputs": [
        {
          "output_type": "execute_result",
          "data": {
            "text/plain": [
              "[{'score': 0.23412670195102692,\n",
              "  'token': 6506,\n",
              "  'token_str': '貓',\n",
              "  'sequence': '樹 上 一 隻 貓 。'},\n",
              " {'score': 0.19135616719722748,\n",
              "  'token': 7852,\n",
              "  'token_str': '鳥',\n",
              "  'sequence': '樹 上 一 隻 鳥 。'},\n",
              " {'score': 0.16935215890407562,\n",
              "  'token': 4318,\n",
              "  'token_str': '狗',\n",
              "  'sequence': '樹 上 一 隻 狗 。'},\n",
              " {'score': 0.04756055027246475,\n",
              "  'token': 7430,\n",
              "  'token_str': '雞',\n",
              "  'sequence': '樹 上 一 隻 雞 。'},\n",
              " {'score': 0.030266491696238518,\n",
              "  'token': 6500,\n",
              "  'token_str': '豬',\n",
              "  'sequence': '樹 上 一 隻 豬 。'}]"
            ]
          },
          "metadata": {},
          "execution_count": 65
        }
      ]
    },
    {
      "cell_type": "code",
      "source": [
        "def fill(text):\n",
        "    result = fill_mask(text)\n",
        "    generated_text = []\n",
        "    for d in result:\n",
        "        s = ''.join(d['sequence'].split())\n",
        "        print(s)\n",
        "        generated_text.append(s)"
      ],
      "metadata": {
        "id": "XvnqUwkNxXZN"
      },
      "execution_count": null,
      "outputs": []
    },
    {
      "cell_type": "code",
      "source": [
        "fill('我天天都會吃一碗[MASK]。')"
      ],
      "metadata": {
        "colab": {
          "base_uri": "https://localhost:8080/"
        },
        "id": "2uE3xzqAxY39",
        "outputId": "18676835-5428-43fd-a5c5-aba7939cb5ad"
      },
      "execution_count": null,
      "outputs": [
        {
          "output_type": "stream",
          "name": "stdout",
          "text": [
            "我天天都會吃一碗飯。\n",
            "我天天都會吃一碗麵。\n",
            "我天天都會吃一碗面。\n",
            "我天天都會吃一碗粥。\n",
            "我天天都會吃一碗湯。\n"
          ]
        }
      ]
    },
    {
      "cell_type": "markdown",
      "source": [
        "閱讀測驗型的問答"
      ],
      "metadata": {
        "id": "G8DUTjex_6wA"
      }
    },
    {
      "cell_type": "code",
      "source": [
        "question_answerer = pipeline(\"question-answering\", model='uer/roberta-base-chinese-extractive-qa')"
      ],
      "metadata": {
        "id": "jNEHYPPRxaKJ"
      },
      "execution_count": null,
      "outputs": []
    },
    {
      "cell_type": "code",
      "source": [
        "context = '''報導隨後介紹本屆奧運金牌得主郭婞淳先前的善舉，除提到郭婞淳名字來自「倖存」一意，也提到郭婞淳在2016年購買救護車送給羅東聖母醫院，後再轉贈離島澎湖惠民醫院的故事。\n",
        "\n",
        "報導取用澎湖縣長賴峰偉臉書發文的照片，當時郭婞淳奪金後，惠民醫院的醫護人員也覺得與有榮焉。文末則提到郭婞淳是台灣原住民，認為她以阿美族身分一舉奪金，同樣備受關注。'''"
      ],
      "metadata": {
        "id": "De8me1s1xbqg"
      },
      "execution_count": null,
      "outputs": []
    },
    {
      "cell_type": "code",
      "source": [
        "question = \"郭婞淳捐贈的救護車，最後是在哪個醫院？\""
      ],
      "metadata": {
        "id": "EuvaJuvlxdyD"
      },
      "execution_count": null,
      "outputs": []
    },
    {
      "cell_type": "code",
      "source": [
        "def QA(question, context):\n",
        "    c = t2s(context)\n",
        "    q = t2s(question)\n",
        "    result = question_answerer(question=q, context=c)\n",
        "    ans = s2t(result['answer'])\n",
        "    return ans"
      ],
      "metadata": {
        "id": "mGpNJvKHxfUm"
      },
      "execution_count": null,
      "outputs": []
    },
    {
      "cell_type": "code",
      "source": [
        "QA(question, context)"
      ],
      "metadata": {
        "colab": {
          "base_uri": "https://localhost:8080/",
          "height": 35
        },
        "id": "jxkK6GN1xkF4",
        "outputId": "414d2bc0-9a6f-4199-aa12-261f80283699"
      },
      "execution_count": null,
      "outputs": [
        {
          "output_type": "execute_result",
          "data": {
            "text/plain": [
              "'離島澎湖惠民醫院'"
            ],
            "application/vnd.google.colaboratory.intrinsic+json": {
              "type": "string"
            }
          },
          "metadata": {},
          "execution_count": 72
        }
      ]
    },
    {
      "cell_type": "code",
      "source": [
        "question = \"郭婞淳是哪一個原住民族的人？\""
      ],
      "metadata": {
        "id": "b5z5tgnlxl3h"
      },
      "execution_count": null,
      "outputs": []
    },
    {
      "cell_type": "code",
      "source": [
        "QA(question, context)"
      ],
      "metadata": {
        "colab": {
          "base_uri": "https://localhost:8080/",
          "height": 35
        },
        "id": "-iAwaGdhxmkK",
        "outputId": "869cdc3e-28b3-4c0f-c424-2960c23aaa1e"
      },
      "execution_count": null,
      "outputs": [
        {
          "output_type": "execute_result",
          "data": {
            "text/plain": [
              "'阿美族'"
            ],
            "application/vnd.google.colaboratory.intrinsic+json": {
              "type": "string"
            }
          },
          "metadata": {},
          "execution_count": 74
        }
      ]
    },
    {
      "cell_type": "code",
      "source": [
        "context = \"你好，我想訂魔鬼代言人五張票，今天晚上6:20那場，都是學生票。\""
      ],
      "metadata": {
        "id": "DOYvyTPFxpBH"
      },
      "execution_count": null,
      "outputs": []
    },
    {
      "cell_type": "code",
      "source": [
        "question = \"要看哪場電影？\""
      ],
      "metadata": {
        "id": "SDIkRi7_xq2z"
      },
      "execution_count": null,
      "outputs": []
    },
    {
      "cell_type": "code",
      "source": [
        "QA(question, context)"
      ],
      "metadata": {
        "id": "iMS7SBNexr7K",
        "colab": {
          "base_uri": "https://localhost:8080/",
          "height": 35
        },
        "outputId": "405056c7-13b4-4202-f1d3-4388a1f8cbee"
      },
      "execution_count": null,
      "outputs": [
        {
          "output_type": "execute_result",
          "data": {
            "text/plain": [
              "'魔鬼代言人'"
            ],
            "application/vnd.google.colaboratory.intrinsic+json": {
              "type": "string"
            }
          },
          "metadata": {},
          "execution_count": 77
        }
      ]
    },
    {
      "cell_type": "code",
      "source": [
        "question = \"有多少人要看？\""
      ],
      "metadata": {
        "id": "_zQGaxrYxwV3"
      },
      "execution_count": null,
      "outputs": []
    },
    {
      "cell_type": "code",
      "source": [
        "QA(question, context)"
      ],
      "metadata": {
        "id": "QI0SuVnXx3-X",
        "colab": {
          "base_uri": "https://localhost:8080/",
          "height": 35
        },
        "outputId": "3e411911-d66f-401c-be61-4b3206d2ede1"
      },
      "execution_count": null,
      "outputs": [
        {
          "output_type": "execute_result",
          "data": {
            "text/plain": [
              "'魔鬼代言人'"
            ],
            "application/vnd.google.colaboratory.intrinsic+json": {
              "type": "string"
            }
          },
          "metadata": {},
          "execution_count": 79
        }
      ]
    },
    {
      "cell_type": "code",
      "source": [
        "question = \"要訂幾張票？\""
      ],
      "metadata": {
        "id": "PacMAmn3xxOo"
      },
      "execution_count": null,
      "outputs": []
    },
    {
      "cell_type": "code",
      "source": [
        "QA(question, context)"
      ],
      "metadata": {
        "id": "CBn6_tg7x2lB",
        "colab": {
          "base_uri": "https://localhost:8080/",
          "height": 35
        },
        "outputId": "a93d867e-dc66-4e7e-f901-7a980f681b2d"
      },
      "execution_count": null,
      "outputs": [
        {
          "output_type": "execute_result",
          "data": {
            "text/plain": [
              "'五張'"
            ],
            "application/vnd.google.colaboratory.intrinsic+json": {
              "type": "string"
            }
          },
          "metadata": {},
          "execution_count": 81
        }
      ]
    },
    {
      "cell_type": "code",
      "source": [
        "question = \"看電影的時間？\""
      ],
      "metadata": {
        "id": "c4OXqetlx7s6"
      },
      "execution_count": null,
      "outputs": []
    },
    {
      "cell_type": "code",
      "source": [
        "QA(question, context)"
      ],
      "metadata": {
        "id": "yfDgykGNx8tf",
        "colab": {
          "base_uri": "https://localhost:8080/",
          "height": 35
        },
        "outputId": "35f7adb3-d39b-47d9-8fd5-ac558b81144a"
      },
      "execution_count": null,
      "outputs": [
        {
          "output_type": "execute_result",
          "data": {
            "text/plain": [
              "'6:20'"
            ],
            "application/vnd.google.colaboratory.intrinsic+json": {
              "type": "string"
            }
          },
          "metadata": {},
          "execution_count": 83
        }
      ]
    },
    {
      "cell_type": "code",
      "source": [
        "import tensorflow as tf"
      ],
      "metadata": {
        "id": "TvjSVvhJ6z_0"
      },
      "execution_count": null,
      "outputs": []
    }
  ]
}